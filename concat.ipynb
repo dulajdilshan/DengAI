{
 "cells": [
  {
   "cell_type": "code",
   "execution_count": 1,
   "metadata": {},
   "outputs": [],
   "source": [
    "import pandas as pd\n",
    "\n",
    "# get input dataset\n",
    "x_train = pd.read_csv('data/dengue_features_train.csv')\n",
    "y_train = pd.read_csv('data/dengue_labels_train.csv')\n",
    "x_test = pd.read_csv('data/dengue_features_test.csv')\n",
    "\n",
    "# Normalize the week_start_date feature value\n",
    "x_train['week_start_date'] = pd.to_datetime(x_train['week_start_date'])\n",
    "x_test['week_start_date'] = pd.to_datetime(x_test['week_start_date'])\n"
   ]
  },
  {
   "cell_type": "code",
   "execution_count": null,
   "metadata": {},
   "outputs": [],
   "source": [
    "x_train['total_cases'] = y_train['total_cases']\n",
    "x_test['total_cases'] = \"?\"\n",
    "x_train.drop(['week_start_date'], axis=1, inplace=True)"
   ]
  },
  {
   "cell_type": "code",
   "execution_count": 3,
   "metadata": {},
   "outputs": [],
   "source": [
    "x_sj_train = x_train.loc[x_train['city'] == 'sj']\n",
    "x_iq_train = x_train.loc[x_train['city'] == 'iq']\n",
    "\n",
    "x_sj_test = x_test.loc[x_test['city'] == 'sj']\n",
    "x_iq_test = x_test.loc[x_test['city'] == 'iq']\n",
    "\n",
    "x_sj_train.set_index('city', inplace=True)\n",
    "x_iq_train.set_index('city', inplace=True)\n",
    "\n",
    "x_sj_test.set_index('city', inplace=True)\n",
    "x_iq_test.set_index('city', inplace=True)"
   ]
  },
  {
   "cell_type": "code",
   "execution_count": 4,
   "metadata": {},
   "outputs": [],
   "source": [
    "x_sj_train.to_csv(\"newdata/x_sj.csv\")\n",
    "x_iq_train.to_csv(\"newdata/x_iq.csv\")\n",
    "\n",
    "x_sj_test.to_csv(\"newdata/x_sj_test.csv\")\n",
    "x_iq_test.to_csv(\"newdata/x_iq_test.csv\")"
   ]
  },
  {
   "cell_type": "code",
   "execution_count": 6,
   "metadata": {},
   "outputs": [
    {
     "data": {
      "text/plain": [
       "(260, 24)"
      ]
     },
     "execution_count": 6,
     "metadata": {},
     "output_type": "execute_result"
    }
   ],
   "source": [
    "x_sj_test.shape"
   ]
  },
  {
   "cell_type": "code",
   "execution_count": 8,
   "metadata": {},
   "outputs": [
    {
     "data": {
      "text/plain": [
       "(156, 24)"
      ]
     },
     "execution_count": 8,
     "metadata": {},
     "output_type": "execute_result"
    }
   ],
   "source": [
    "x_iq_test.shape"
   ]
  },
  {
   "cell_type": "code",
   "execution_count": null,
   "metadata": {},
   "outputs": [],
   "source": []
  }
 ],
 "metadata": {
  "kernelspec": {
   "display_name": "Python 3",
   "language": "python",
   "name": "python3"
  },
  "language_info": {
   "codemirror_mode": {
    "name": "ipython",
    "version": 3
   },
   "file_extension": ".py",
   "mimetype": "text/x-python",
   "name": "python",
   "nbconvert_exporter": "python",
   "pygments_lexer": "ipython3",
   "version": "3.6.8"
  }
 },
 "nbformat": 4,
 "nbformat_minor": 2
}
